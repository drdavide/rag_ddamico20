{
 "cells": [
  {
   "cell_type": "code",
   "execution_count": null,
   "id": "9c632636",
   "metadata": {},
   "outputs": [],
   "source": []
  },
  {
   "cell_type": "code",
   "execution_count": 1,
   "id": "c4e6d610",
   "metadata": {},
   "outputs": [
    {
     "name": "stderr",
     "output_type": "stream",
     "text": [
      "/Users/ddamico20/_projects/rag_ddamico20/venv/lib/python3.12/site-packages/tqdm/auto.py:21: TqdmWarning: IProgress not found. Please update jupyter and ipywidgets. See https://ipywidgets.readthedocs.io/en/stable/user_install.html\n",
      "  from .autonotebook import tqdm as notebook_tqdm\n"
     ]
    }
   ],
   "source": [
    "import sys\n",
    "import os\n",
    "sys.path.append(os.path.dirname(os.path.dirname(os.path.abspath('__file__'))))\n",
    "\n",
    "from src.chunking import document_chunker"
   ]
  },
  {
   "cell_type": "code",
   "execution_count": 5,
   "id": "610125f9",
   "metadata": {},
   "outputs": [
    {
     "name": "stdout",
     "output_type": "stream",
     "text": [
      "Number of documents processed: 105\n",
      "First document: ENT-5002.txt\n",
      "Number of chunks in first document: 1\n",
      "First chunk preview: Gaming console storage unit in sleek black, featuring designated compartments for systems, controllers, and games. Ventilated to prevent overheating. Manufactured by GameHub. Dimensions: 42\"W x 16\"D x...\n"
     ]
    }
   ],
   "source": [
    "# Create a simple text-based chunker since we can't download models due to SSL issues\n",
    "import os\n",
    "import re\n",
    "\n",
    "def simple_text_chunker(directory_path, chunk_size=256, overlap=0):\n",
    "    \"\"\"\n",
    "    Simple text chunker that doesn't require external model downloads\n",
    "    \"\"\"\n",
    "    documents = {}\n",
    "    \n",
    "    # Read each file in the directory\n",
    "    for filename in os.listdir(directory_path):\n",
    "        if filename.endswith('.txt'):\n",
    "            file_path = os.path.join(directory_path, filename)\n",
    "            \n",
    "            with open(file_path, 'r', encoding='utf-8') as file:\n",
    "                content = file.read()\n",
    "            \n",
    "            # Simple word-based chunking\n",
    "            words = content.split()\n",
    "            chunks = []\n",
    "            \n",
    "            for i in range(0, len(words), chunk_size - overlap):\n",
    "                chunk = ' '.join(words[i:i + chunk_size])\n",
    "                chunks.append(chunk)\n",
    "            \n",
    "            documents[filename] = chunks\n",
    "    \n",
    "    return documents\n",
    "\n",
    "# Use the simple chunker instead\n",
    "docs = simple_text_chunker(directory_path='../data/text_data', chunk_size=50, overlap=10)\n",
    "keys = list(docs.keys())\n",
    "print(f\"Number of documents processed: {len(docs)}\")\n",
    "print(f\"First document: {keys[0]}\")\n",
    "print(f\"Number of chunks in first document: {len(docs[keys[0]])}\")\n",
    "print(f\"First chunk preview: {docs[keys[0]][0][:200]}...\")"
   ]
  },
  {
   "cell_type": "code",
   "execution_count": null,
   "id": "e31cf99a",
   "metadata": {},
   "outputs": [],
   "source": [
    "# Alternative approach: Fix SSL certificates on macOS\n",
    "# Run this in terminal to fix SSL certificate issues permanently:\n",
    "# /Applications/Python\\ 3.x/Install\\ Certificates.command\n",
    "# or\n",
    "# pip install --upgrade certifi\n",
    "\n",
    "# For a temporary fix in this session, you can also try:\n",
    "import os\n",
    "import requests\n",
    "from urllib3.util import ssl_\n",
    "\n",
    "# Monkey patch to disable SSL verification for this session only\n",
    "original_ssl_wrap_socket = ssl_.ssl_wrap_socket\n",
    "def patched_ssl_wrap_socket(*args, **kwargs):\n",
    "    kwargs['cert_reqs'] = ssl_.CERT_NONE\n",
    "    return original_ssl_wrap_socket(*args, **kwargs)\n",
    "\n",
    "ssl_.ssl_wrap_socket = patched_ssl_wrap_socket\n",
    "\n",
    "# Now try the original chunker with SSL patch\n",
    "try:\n",
    "    print(\"Attempting to use original document_chunker with SSL patch...\")\n",
    "    docs_original = document_chunker(directory_path='../data/text_data',\n",
    "                                   model_name='BAAI/bge-small-en-v1.5',\n",
    "                                   chunk_size=256)\n",
    "    print(\"SUCCESS: Original chunker works with SSL patch!\")\n",
    "    print(f\"Processed {len(docs_original)} documents\")\n",
    "except Exception as e:\n",
    "    print(f\"Still having issues: {e}\")\n",
    "    print(\"The simple text chunker above is a good alternative for now.\")"
   ]
  }
 ],
 "metadata": {
  "kernelspec": {
   "display_name": "venv",
   "language": "python",
   "name": "python3"
  },
  "language_info": {
   "codemirror_mode": {
    "name": "ipython",
    "version": 3
   },
   "file_extension": ".py",
   "mimetype": "text/x-python",
   "name": "python",
   "nbconvert_exporter": "python",
   "pygments_lexer": "ipython3",
   "version": "3.12.4"
  }
 },
 "nbformat": 4,
 "nbformat_minor": 5
}
